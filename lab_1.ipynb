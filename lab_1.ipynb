{
 "cells": [
  {
   "cell_type": "code",
   "id": "initial_id",
   "metadata": {
    "collapsed": true,
    "ExecuteTime": {
     "end_time": "2025-09-18T10:43:38.210936Z",
     "start_time": "2025-09-18T10:43:38.208095Z"
    }
   },
   "source": [
    "import numpy as np\n",
    "my_array = np.arange(10, 70, 2)\n",
    "print(my_array)"
   ],
   "outputs": [
    {
     "name": "stdout",
     "output_type": "stream",
     "text": [
      "[10 12 14 16 18 20 22 24 26 28 30 32 34 36 38 40 42 44 46 48 50 52 54 56\n",
      " 58 60 62 64 66 68]\n"
     ]
    }
   ],
   "execution_count": 150
  },
  {
   "metadata": {
    "ExecuteTime": {
     "end_time": "2025-09-18T10:43:38.231157Z",
     "start_time": "2025-09-18T10:43:38.228472Z"
    }
   },
   "cell_type": "code",
   "source": [
    "A = my_array.reshape(6, 5)\n",
    "A = np.matrix_transpose(A)\n",
    "print(A)"
   ],
   "id": "2baf582be3d107b0",
   "outputs": [
    {
     "name": "stdout",
     "output_type": "stream",
     "text": [
      "[[10 20 30 40 50 60]\n",
      " [12 22 32 42 52 62]\n",
      " [14 24 34 44 54 64]\n",
      " [16 26 36 46 56 66]\n",
      " [18 28 38 48 58 68]]\n"
     ]
    }
   ],
   "execution_count": 151
  },
  {
   "metadata": {
    "ExecuteTime": {
     "end_time": "2025-09-18T10:43:38.256311Z",
     "start_time": "2025-09-18T10:43:38.253311Z"
    }
   },
   "cell_type": "code",
   "source": [
    "A = 2.5 * A - 5\n",
    "print(A)"
   ],
   "id": "5705ad19f537ff5b",
   "outputs": [
    {
     "name": "stdout",
     "output_type": "stream",
     "text": [
      "[[ 20.  45.  70.  95. 120. 145.]\n",
      " [ 25.  50.  75. 100. 125. 150.]\n",
      " [ 30.  55.  80. 105. 130. 155.]\n",
      " [ 35.  60.  85. 110. 135. 160.]\n",
      " [ 40.  65.  90. 115. 140. 165.]]\n"
     ]
    }
   ],
   "execution_count": 152
  },
  {
   "metadata": {
    "ExecuteTime": {
     "end_time": "2025-09-18T10:43:38.283825Z",
     "start_time": "2025-09-18T10:43:38.280873Z"
    }
   },
   "cell_type": "code",
   "source": [
    "B = np.random.uniform(0, 10, size=(6, 3))\n",
    "print(B)"
   ],
   "id": "c4bedbbc7d39ee73",
   "outputs": [
    {
     "name": "stdout",
     "output_type": "stream",
     "text": [
      "[[3.94878873 1.33054045 2.42411261]\n",
      " [7.11344478 8.58655831 6.60673538]\n",
      " [9.79955638 4.28053399 0.65691478]\n",
      " [4.80943286 2.07242554 8.73988708]\n",
      " [7.68878285 3.94661678 7.04243724]\n",
      " [1.57181473 7.80617098 8.33968554]]\n"
     ]
    }
   ],
   "execution_count": 153
  },
  {
   "metadata": {
    "ExecuteTime": {
     "end_time": "2025-09-18T10:43:38.304732Z",
     "start_time": "2025-09-18T10:43:38.301788Z"
    }
   },
   "cell_type": "code",
   "source": [
    "a = np.sum(A, axis=1).reshape(A.shape[0], 1)\n",
    "b = np.sum(B, axis=0).reshape(B.shape[1], 1)\n",
    "print(a, b, sep=\"\\n\")"
   ],
   "id": "3e3533d4a7010f92",
   "outputs": [
    {
     "name": "stdout",
     "output_type": "stream",
     "text": [
      "[[495.]\n",
      " [525.]\n",
      " [555.]\n",
      " [585.]\n",
      " [615.]]\n",
      "[[34.93182034]\n",
      " [28.02284604]\n",
      " [33.80977261]]\n"
     ]
    }
   ],
   "execution_count": 154
  },
  {
   "metadata": {
    "ExecuteTime": {
     "end_time": "2025-09-18T10:43:38.353235Z",
     "start_time": "2025-09-18T10:43:38.350170Z"
    }
   },
   "cell_type": "code",
   "source": [
    "AB = np.dot(A, B)\n",
    "print(AB)"
   ],
   "id": "36262d1df0cfea9c",
   "outputs": [
    {
     "name": "stdout",
     "output_type": "stream",
     "text": [
      "[[2692.51293682 2515.0125441  3276.40552196]\n",
      " [2867.1720385  2655.12677431 3445.45438502]\n",
      " [3041.83114019 2795.24100452 3614.50324808]\n",
      " [3216.49024187 2935.35523473 3783.55211114]\n",
      " [3391.14934355 3075.46946494 3952.60097421]]\n"
     ]
    }
   ],
   "execution_count": 155
  },
  {
   "metadata": {
    "ExecuteTime": {
     "end_time": "2025-09-18T10:43:38.369377Z",
     "start_time": "2025-09-18T10:43:38.365652Z"
    }
   },
   "cell_type": "code",
   "source": [
    "A = np.delete(A, 2, axis=1)\n",
    "B = np.hstack([np.random.uniform(10, 20, size=(6, 3)), B])\n",
    "print(A, B)"
   ],
   "id": "ed5bc5890e839f1c",
   "outputs": [
    {
     "name": "stdout",
     "output_type": "stream",
     "text": [
      "[[ 20.  45.  95. 120. 145.]\n",
      " [ 25.  50. 100. 125. 150.]\n",
      " [ 30.  55. 105. 130. 155.]\n",
      " [ 35.  60. 110. 135. 160.]\n",
      " [ 40.  65. 115. 140. 165.]] [[10.54973462 19.47209293 14.32013096  3.94878873  1.33054045  2.42411261]\n",
      " [15.3260567  13.48722534 12.18234579  7.11344478  8.58655831  6.60673538]\n",
      " [10.4086857  13.16514611 10.93241496  9.79955638  4.28053399  0.65691478]\n",
      " [12.88619865 18.99243853 15.84993567  4.80943286  2.07242554  8.73988708]\n",
      " [14.11340828 18.82995198 19.67097112  7.68878285  3.94661678  7.04243724]\n",
      " [10.29712941 15.41055409 13.41558802  1.57181473  7.80617098  8.33968554]]\n"
     ]
    }
   ],
   "execution_count": 156
  },
  {
   "metadata": {
    "ExecuteTime": {
     "end_time": "2025-09-18T10:43:38.391682Z",
     "start_time": "2025-09-18T10:43:38.387096Z"
    }
   },
   "cell_type": "code",
   "source": [
    "dets = []\n",
    "inverse_matrices = []\n",
    "for matrix in [A, B]:\n",
    "    det_curr_matrix = np.linalg.det(matrix)\n",
    "    dets.append(det_curr_matrix)\n",
    "    if det_curr_matrix != 0:\n",
    "        inverse_curr_matrix = np.linalg.inv(matrix)\n",
    "        inverse_matrices.append(inverse_curr_matrix)\n",
    "    else:\n",
    "        print(f\"Матрица {matrix} не является обратимой\")\n",
    "\n",
    "print([float(det) for det in dets])\n",
    "print(inverse_matrices, sep='\\n')"
   ],
   "id": "10c6cd8dbc9d880a",
   "outputs": [
    {
     "name": "stdout",
     "output_type": "stream",
     "text": [
      "Матрица [[ 20.  45.  95. 120. 145.]\n",
      " [ 25.  50. 100. 125. 150.]\n",
      " [ 30.  55. 105. 130. 155.]\n",
      " [ 35.  60. 110. 135. 160.]\n",
      " [ 40.  65. 115. 140. 165.]] не является обратимой\n",
      "[0.0, 90849.70319990239]\n",
      "[array([[ 0.1484983 ,  0.26498551, -0.21662729, -0.06387384,  0.03528578,\n",
      "        -0.19888134],\n",
      "       [ 0.01942969, -0.08959347,  0.13228233,  0.12376176, -0.19073881,\n",
      "         0.0862772 ],\n",
      "       [ 0.01786378, -0.02515995, -0.10402376, -0.19036947,  0.26625279,\n",
      "        -0.00239875],\n",
      "       [-0.17910715, -0.11900337,  0.2319063 ,  0.14583555, -0.05993265,\n",
      "         0.02584542],\n",
      "       [-0.02751385, -0.01979133,  0.07682043, -0.10833445, -0.02963225,\n",
      "         0.15618123],\n",
      "       [-0.18848201, -0.08019773,  0.07475679,  0.23032633, -0.08038334,\n",
      "         0.05883993]])]\n"
     ]
    }
   ],
   "execution_count": 157
  },
  {
   "metadata": {
    "ExecuteTime": {
     "end_time": "2025-09-18T10:43:38.403617Z",
     "start_time": "2025-09-18T10:43:38.399971Z"
    }
   },
   "cell_type": "code",
   "source": [
    "powed_A = np.linalg.matrix_power(A, 6)\n",
    "powed_B = np.linalg.matrix_power(B, 14)\n",
    "print(powed_A, powed_B)"
   ],
   "id": "89339eadb20f8b09",
   "outputs": [
    {
     "name": "stdout",
     "output_type": "stream",
     "text": [
      "[[8.30458545e+14 1.45381353e+15 2.70052349e+15 3.32387847e+15\n",
      "  3.94723345e+15]\n",
      " [8.77480176e+14 1.53613032e+15 2.85343062e+15 3.51208076e+15\n",
      "  4.17073091e+15]\n",
      " [9.24501807e+14 1.61844712e+15 3.00633774e+15 3.70028306e+15\n",
      "  4.39422837e+15]\n",
      " [9.71523438e+14 1.70076392e+15 3.15924487e+15 3.88848535e+15\n",
      "  4.61772583e+15]\n",
      " [1.01854507e+15 1.78308071e+15 3.31215200e+15 4.07668765e+15\n",
      "  4.84122329e+15]] [[8.78275541e+23 1.12964103e+24 9.57430616e+23 4.54485843e+23\n",
      "  3.44439959e+23 3.36312961e+23]\n",
      " [1.08672879e+24 1.39775432e+24 1.18467083e+24 5.62355237e+23\n",
      "  4.26190646e+23 4.16134754e+23]\n",
      " [8.47132242e+23 1.08958441e+24 9.23480510e+23 4.38369957e+23\n",
      "  3.32226256e+23 3.24387438e+23]\n",
      " [1.06517073e+24 1.37002627e+24 1.16116984e+24 5.51199475e+23\n",
      "  4.17736059e+23 4.07879652e+23]\n",
      " [1.20020493e+24 1.54370773e+24 1.30837408e+24 6.21076331e+23\n",
      "  4.70693444e+23 4.59587516e+23]\n",
      " [9.75378618e+23 1.25453535e+24 1.06328516e+24 5.04734281e+23\n",
      "  3.82521607e+23 3.73496079e+23]]\n"
     ]
    }
   ],
   "execution_count": 158
  },
  {
   "metadata": {
    "ExecuteTime": {
     "end_time": "2025-09-18T10:43:38.423277Z",
     "start_time": "2025-09-18T10:43:38.419773Z"
    }
   },
   "cell_type": "code",
   "source": [
    "coefficients = [[4, -3.4, 1, 1.8],\n",
    "                [-2, 8, 0, -9],\n",
    "                [2, -2.5, -7, 4],\n",
    "                [1, -1, 5, 1]]\n",
    "free_memb = [6, -4.8, 10, 3]\n",
    "solve = np.linalg.solve(coefficients, free_memb)\n",
    "print(solve)"
   ],
   "id": "3a1145a3835eff8",
   "outputs": [
    {
     "name": "stdout",
     "output_type": "stream",
     "text": [
      "[3.45400951 4.13464342 0.04792393 3.44101426]\n"
     ]
    }
   ],
   "execution_count": 159
  }
 ],
 "metadata": {
  "kernelspec": {
   "display_name": "Python 3",
   "language": "python",
   "name": "python3"
  },
  "language_info": {
   "codemirror_mode": {
    "name": "ipython",
    "version": 2
   },
   "file_extension": ".py",
   "mimetype": "text/x-python",
   "name": "python",
   "nbconvert_exporter": "python",
   "pygments_lexer": "ipython2",
   "version": "2.7.6"
  }
 },
 "nbformat": 4,
 "nbformat_minor": 5
}

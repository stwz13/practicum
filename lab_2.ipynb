{
 "cells": [
  {
   "cell_type": "code",
   "id": "initial_id",
   "metadata": {
    "collapsed": true,
    "ExecuteTime": {
     "end_time": "2025-09-22T13:35:48.467581Z",
     "start_time": "2025-09-22T13:35:48.454638Z"
    }
   },
   "source": [
    "import math\n",
    "\n",
    "import scipy as sc\n",
    "import sympy as sm\n",
    "import numpy as np\n",
    "\n",
    "def y(x):\n",
    "    return np.log(np.sqrt(x))\n",
    "\n",
    "x0 = 2\n",
    "\n",
    "first_res = sc.misc.derivative(y, x0, n=1)\n",
    "second_res = sc.misc.derivative(y, x0, n=2)\n",
    "\n",
    "print(f\"Значение первой производной в x0: {first_res}\")\n",
    "print(f\"Значение второй производной в x0: {second_res}\")"
   ],
   "outputs": [
    {
     "name": "stdout",
     "output_type": "stream",
     "text": [
      "Значение первой производной в x0: 0.2746530721670274\n",
      "Значение второй производной в x0: -0.14384103622589062\n"
     ]
    },
    {
     "name": "stderr",
     "output_type": "stream",
     "text": [
      "C:\\Users\\79585\\AppData\\Local\\Temp\\ipykernel_13544\\2396549591.py:12: DeprecationWarning: scipy.misc.derivative is deprecated in SciPy v1.10.0; and will be completely removed in SciPy v1.12.0. You may consider using findiff: https://github.com/maroba/findiff or numdifftools: https://github.com/pbrod/numdifftools\n",
      "  first_res = sc.misc.derivative(y, x0, n=1)\n",
      "C:\\Users\\79585\\AppData\\Local\\Temp\\ipykernel_13544\\2396549591.py:13: DeprecationWarning: scipy.misc.derivative is deprecated in SciPy v1.10.0; and will be completely removed in SciPy v1.12.0. You may consider using findiff: https://github.com/maroba/findiff or numdifftools: https://github.com/pbrod/numdifftools\n",
      "  second_res = sc.misc.derivative(y, x0, n=2)\n"
     ]
    }
   ],
   "execution_count": 473
  },
  {
   "metadata": {
    "ExecuteTime": {
     "end_time": "2025-09-22T13:35:48.491802Z",
     "start_time": "2025-09-22T13:35:48.476180Z"
    }
   },
   "cell_type": "code",
   "source": [
    "x = sm.Symbol('x')\n",
    "derivate = sm.diff(sm.log(sm.sqrt(x)), x)\n",
    "\n",
    "print(derivate)"
   ],
   "id": "d26df68e948321c1",
   "outputs": [
    {
     "name": "stdout",
     "output_type": "stream",
     "text": [
      "1/(2*x)\n"
     ]
    }
   ],
   "execution_count": 474
  },
  {
   "metadata": {
    "ExecuteTime": {
     "end_time": "2025-09-22T13:35:48.517380Z",
     "start_time": "2025-09-22T13:35:48.495729Z"
    }
   },
   "cell_type": "code",
   "source": [
    "def rectangle_method(function, a, b, n):\n",
    "    integral = 0\n",
    "    step = (b - a) / n\n",
    "    for i in range(n):\n",
    "        integral += function(a + step*i)\n",
    "    return integral * step\n",
    "a = 1\n",
    "b = 6\n",
    "\n",
    "integral_sc_value = sc.integrate.quad(y, a, b)\n",
    "rectangle_method_integral_value = rectangle_method(y, a, b, 10000)\n",
    "\n",
    "print(integral_sc_value, rectangle_method_integral_value, sep=\"\\n\")"
   ],
   "id": "90b4b76892a24d87",
   "outputs": [
    {
     "name": "stdout",
     "output_type": "stream",
     "text": [
      "(2.8752784076841635, 9.077930271933315e-10)\n",
      "2.8750544290699556\n"
     ]
    }
   ],
   "execution_count": 475
  },
  {
   "metadata": {
    "ExecuteTime": {
     "end_time": "2025-09-22T13:35:48.563189Z",
     "start_time": "2025-09-22T13:35:48.517380Z"
    }
   },
   "cell_type": "code",
   "source": [
    "indefinite_integral = sm.integrate(sm.log(sm.sqrt(x)))\n",
    "\n",
    "print(indefinite_integral)"
   ],
   "id": "cc1a1d23aa2a12dd",
   "outputs": [
    {
     "name": "stdout",
     "output_type": "stream",
     "text": [
      "x*log(sqrt(x)) - x/2\n"
     ]
    }
   ],
   "execution_count": 476
  },
  {
   "metadata": {
    "ExecuteTime": {
     "end_time": "2025-09-22T13:35:48.576365Z",
     "start_time": "2025-09-22T13:35:48.567305Z"
    }
   },
   "cell_type": "code",
   "source": [
    "objective_function = lambda x : (x[0] - 3)** 2 + (x[1] - 1)**2\n",
    "initial_point = (0, 0)\n",
    "cons = ({'type': 'ineq', 'fun': lambda x:  -2*x[0] + x[1] - 2},\n",
    "        {'type': 'ineq', 'fun': lambda x: 3*x[1] - 10})\n",
    "bounds = [(0, None), (0, None)]\n",
    "res = sc.optimize.minimize(objective_function, initial_point, method=\"SLSQP\", constraints=cons, bounds=bounds)\n",
    "print(res.fun, \" \".join(str(numb) for numb in res.x), sep = \"\\n\")\n"
   ],
   "id": "b51879ac549577a3",
   "outputs": [
    {
     "name": "stdout",
     "output_type": "stream",
     "text": [
      "10.888888888889218\n",
      "0.6666666666666157 3.3333333333333526\n"
     ]
    }
   ],
   "execution_count": 477
  }
 ],
 "metadata": {
  "kernelspec": {
   "display_name": "Python 3",
   "language": "python",
   "name": "python3"
  },
  "language_info": {
   "codemirror_mode": {
    "name": "ipython",
    "version": 2
   },
   "file_extension": ".py",
   "mimetype": "text/x-python",
   "name": "python",
   "nbconvert_exporter": "python",
   "pygments_lexer": "ipython2",
   "version": "2.7.6"
  }
 },
 "nbformat": 4,
 "nbformat_minor": 5
}
